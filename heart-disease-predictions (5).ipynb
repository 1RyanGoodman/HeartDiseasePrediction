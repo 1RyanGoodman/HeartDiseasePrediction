{
 "cells": [
  {
   "cell_type": "markdown",
   "metadata": {},
   "source": [
    "# Heart Disease Analytics with Healthy Skepticism"
   ]
  },
  {
   "cell_type": "code",
   "execution_count": 1,
   "metadata": {
    "_cell_guid": "b1076dfc-b9ad-4769-8c92-a6c4dae69d19",
    "_uuid": "8f2839f25d086af736a60e9eeb907d3b93b6e0e5"
   },
   "outputs": [
    {
     "name": "stdout",
     "output_type": "stream",
     "text": [
      "['heart.csv']\n"
     ]
    }
   ],
   "source": [
    "import numpy as np # linear algebra\n",
    "import pandas as pd # data processing, CSV fIle I/O (e.g. pd.read_csv)\n",
    "import os\n",
    "import matplotlib.pyplot as plt\n",
    "import matplotlib.patches as mpatches\n",
    "from time import time\n",
    "from sklearn.model_selection import GridSearchCV\n",
    "import seaborn as sns\n",
    "import warnings; warnings.simplefilter('ignore')\n",
    "\n",
    "print(os.listdir(\"../input\"))"
   ]
  },
  {
   "cell_type": "markdown",
   "metadata": {},
   "source": [
    "#### Objectives:\n",
    "In this notebook, I will attempt to find the main contributors to heart disease through the UCI Heart Disease dataset.<br>\n",
    "My approach will include Exploratory Data Analysis, Feature Engineering (minimal required in this example), Testing Multiple Models, including several with GridSearch, and one-by-one analysis the models' top features as they relate current medical knowledge."
   ]
  },
  {
   "cell_type": "markdown",
   "metadata": {},
   "source": [
    "References:\n",
    "- https://www.kaggle.com/rgoodman/elo-merchant-with-no-peeking-at-other-kernels\n",
    "- My ML Donors Udacity Project\n",
    "- https://github.com/dmitriyboyuk/sl_classifier_framework-master/blob/master/finding_opportunity_segment_v1.ipynb"
   ]
  },
  {
   "cell_type": "markdown",
   "metadata": {},
   "source": [
    "## Exploratory Data Analysis"
   ]
  },
  {
   "cell_type": "markdown",
   "metadata": {},
   "source": [
    "- age: The person's age in years\n",
    "- sex: The person's sex (1 = male, 0 = female)\n",
    "- cp: The chest pain experienced (Value 1: typical angina, Value 2: atypical angina, Value 3: non-anginal pain, Value 4: asymptomatic)\n",
    "- trestbps: The person's resting blood pressure (mm Hg on admission to the hospital)\n",
    "- chol: The person's cholesterol measurement in mg/dl\n",
    "- fbs: The person's fasting blood sugar (> 120 mg/dl, 1 = true; 0 = false)\n",
    "- restecg: Resting electrocardiographic measurement (0 = normal, 1 = having ST-T wave abnormality, 2 = showing probable or definite left ventricular hypertrophy by Estes' criteria)\n",
    "- thalach: The person's maximum heart rate achieved\n",
    "- exang: Exercise induced angina (1 = yes; 0 = no)\n",
    "- oldpeak: ST depression induced by exercise relative to rest ('ST' relates to positions on the ECG plot)\n",
    "- slope: the slope of the peak exercise ST segment (Value 1: upsloping, Value 2: flat, Value 3: downsloping)\n",
    "- ca: The number of major vessels (0-3)\n",
    "- thal: A blood disorder called thalassemia (3 = normal; 6 = fixed defect; 7 = reversable defect)\n",
    "- target: Heart disease (0 = no, 1 = yes)"
   ]
  },
  {
   "cell_type": "markdown",
   "metadata": {},
   "source": [
    "**Reading into the descriptions of the features of the dataset, it looks like a few of them should be reclassified as categoricals instead of numerical features.**\n",
    "- cp\n",
    "- restecg\n",
    "- slope\n",
    "- thal"
   ]
  },
  {
   "cell_type": "code",
   "execution_count": 2,
   "metadata": {
    "_cell_guid": "79c7e3d0-c299-4dcb-8224-4455121ee9b0",
    "_uuid": "d629ff2d2480ee46fbb7e2d37f6b5fab8052498a"
   },
   "outputs": [
    {
     "data": {
      "text/html": [
       "<div>\n",
       "<style scoped>\n",
       "    .dataframe tbody tr th:only-of-type {\n",
       "        vertical-align: middle;\n",
       "    }\n",
       "\n",
       "    .dataframe tbody tr th {\n",
       "        vertical-align: top;\n",
       "    }\n",
       "\n",
       "    .dataframe thead th {\n",
       "        text-align: right;\n",
       "    }\n",
       "</style>\n",
       "<table border=\"1\" class=\"dataframe\">\n",
       "  <thead>\n",
       "    <tr style=\"text-align: right;\">\n",
       "      <th></th>\n",
       "      <th>age</th>\n",
       "      <th>sex</th>\n",
       "      <th>cp</th>\n",
       "      <th>trestbps</th>\n",
       "      <th>chol</th>\n",
       "      <th>fbs</th>\n",
       "      <th>restecg</th>\n",
       "      <th>thalach</th>\n",
       "      <th>exang</th>\n",
       "      <th>oldpeak</th>\n",
       "      <th>slope</th>\n",
       "      <th>ca</th>\n",
       "      <th>thal</th>\n",
       "      <th>target</th>\n",
       "    </tr>\n",
       "  </thead>\n",
       "  <tbody>\n",
       "    <tr>\n",
       "      <th>0</th>\n",
       "      <td>63</td>\n",
       "      <td>1</td>\n",
       "      <td>3</td>\n",
       "      <td>145</td>\n",
       "      <td>233</td>\n",
       "      <td>1</td>\n",
       "      <td>0</td>\n",
       "      <td>150</td>\n",
       "      <td>0</td>\n",
       "      <td>2.3</td>\n",
       "      <td>0</td>\n",
       "      <td>0</td>\n",
       "      <td>1</td>\n",
       "      <td>1</td>\n",
       "    </tr>\n",
       "    <tr>\n",
       "      <th>1</th>\n",
       "      <td>37</td>\n",
       "      <td>1</td>\n",
       "      <td>2</td>\n",
       "      <td>130</td>\n",
       "      <td>250</td>\n",
       "      <td>0</td>\n",
       "      <td>1</td>\n",
       "      <td>187</td>\n",
       "      <td>0</td>\n",
       "      <td>3.5</td>\n",
       "      <td>0</td>\n",
       "      <td>0</td>\n",
       "      <td>2</td>\n",
       "      <td>1</td>\n",
       "    </tr>\n",
       "    <tr>\n",
       "      <th>2</th>\n",
       "      <td>41</td>\n",
       "      <td>0</td>\n",
       "      <td>1</td>\n",
       "      <td>130</td>\n",
       "      <td>204</td>\n",
       "      <td>0</td>\n",
       "      <td>0</td>\n",
       "      <td>172</td>\n",
       "      <td>0</td>\n",
       "      <td>1.4</td>\n",
       "      <td>2</td>\n",
       "      <td>0</td>\n",
       "      <td>2</td>\n",
       "      <td>1</td>\n",
       "    </tr>\n",
       "    <tr>\n",
       "      <th>3</th>\n",
       "      <td>56</td>\n",
       "      <td>1</td>\n",
       "      <td>1</td>\n",
       "      <td>120</td>\n",
       "      <td>236</td>\n",
       "      <td>0</td>\n",
       "      <td>1</td>\n",
       "      <td>178</td>\n",
       "      <td>0</td>\n",
       "      <td>0.8</td>\n",
       "      <td>2</td>\n",
       "      <td>0</td>\n",
       "      <td>2</td>\n",
       "      <td>1</td>\n",
       "    </tr>\n",
       "    <tr>\n",
       "      <th>4</th>\n",
       "      <td>57</td>\n",
       "      <td>0</td>\n",
       "      <td>0</td>\n",
       "      <td>120</td>\n",
       "      <td>354</td>\n",
       "      <td>0</td>\n",
       "      <td>1</td>\n",
       "      <td>163</td>\n",
       "      <td>1</td>\n",
       "      <td>0.6</td>\n",
       "      <td>2</td>\n",
       "      <td>0</td>\n",
       "      <td>2</td>\n",
       "      <td>1</td>\n",
       "    </tr>\n",
       "  </tbody>\n",
       "</table>\n",
       "</div>"
      ],
      "text/plain": [
       "   age  sex  cp  trestbps  chol   ...    oldpeak  slope  ca  thal  target\n",
       "0   63    1   3       145   233   ...        2.3      0   0     1       1\n",
       "1   37    1   2       130   250   ...        3.5      0   0     2       1\n",
       "2   41    0   1       130   204   ...        1.4      2   0     2       1\n",
       "3   56    1   1       120   236   ...        0.8      2   0     2       1\n",
       "4   57    0   0       120   354   ...        0.6      2   0     2       1\n",
       "\n",
       "[5 rows x 14 columns]"
      ]
     },
     "execution_count": 2,
     "metadata": {},
     "output_type": "execute_result"
    }
   ],
   "source": [
    "df = pd.read_csv(\"../input/heart.csv\")\n",
    "df.head()"
   ]
  },
  {
   "cell_type": "code",
   "execution_count": 3,
   "metadata": {},
   "outputs": [
    {
     "data": {
      "text/plain": [
       "(303, 14)"
      ]
     },
     "execution_count": 3,
     "metadata": {},
     "output_type": "execute_result"
    }
   ],
   "source": [
    "df.shape"
   ]
  },
  {
   "cell_type": "markdown",
   "metadata": {},
   "source": [
    "There are only 303 records, and it's questionable as to whether this sample size will be enough to arrive at significant and reliable conclusions regarding the most important factors for heart disease."
   ]
  },
  {
   "cell_type": "code",
   "execution_count": 4,
   "metadata": {},
   "outputs": [
    {
     "data": {
      "text/html": [
       "<div>\n",
       "<style scoped>\n",
       "    .dataframe tbody tr th:only-of-type {\n",
       "        vertical-align: middle;\n",
       "    }\n",
       "\n",
       "    .dataframe tbody tr th {\n",
       "        vertical-align: top;\n",
       "    }\n",
       "\n",
       "    .dataframe thead th {\n",
       "        text-align: right;\n",
       "    }\n",
       "</style>\n",
       "<table border=\"1\" class=\"dataframe\">\n",
       "  <thead>\n",
       "    <tr style=\"text-align: right;\">\n",
       "      <th></th>\n",
       "      <th>cp</th>\n",
       "      <th>restecg</th>\n",
       "      <th>slope</th>\n",
       "      <th>thal</th>\n",
       "    </tr>\n",
       "  </thead>\n",
       "  <tbody>\n",
       "    <tr>\n",
       "      <th>0</th>\n",
       "      <td>3</td>\n",
       "      <td>0</td>\n",
       "      <td>0</td>\n",
       "      <td>1</td>\n",
       "    </tr>\n",
       "    <tr>\n",
       "      <th>1</th>\n",
       "      <td>2</td>\n",
       "      <td>1</td>\n",
       "      <td>0</td>\n",
       "      <td>2</td>\n",
       "    </tr>\n",
       "  </tbody>\n",
       "</table>\n",
       "</div>"
      ],
      "text/plain": [
       "   cp  restecg  slope  thal\n",
       "0   3        0      0     1\n",
       "1   2        1      0     2"
      ]
     },
     "execution_count": 4,
     "metadata": {},
     "output_type": "execute_result"
    }
   ],
   "source": [
    "categoricals = ['cp','restecg','slope','thal']\n",
    "df[categoricals].head(2)"
   ]
  },
  {
   "cell_type": "code",
   "execution_count": 5,
   "metadata": {},
   "outputs": [
    {
     "data": {
      "text/html": [
       "<div>\n",
       "<style scoped>\n",
       "    .dataframe tbody tr th:only-of-type {\n",
       "        vertical-align: middle;\n",
       "    }\n",
       "\n",
       "    .dataframe tbody tr th {\n",
       "        vertical-align: top;\n",
       "    }\n",
       "\n",
       "    .dataframe thead th {\n",
       "        text-align: right;\n",
       "    }\n",
       "</style>\n",
       "<table border=\"1\" class=\"dataframe\">\n",
       "  <thead>\n",
       "    <tr style=\"text-align: right;\">\n",
       "      <th></th>\n",
       "      <th>age</th>\n",
       "      <th>ca</th>\n",
       "      <th>chol</th>\n",
       "      <th>exang</th>\n",
       "      <th>fbs</th>\n",
       "      <th>oldpeak</th>\n",
       "      <th>sex</th>\n",
       "      <th>target</th>\n",
       "      <th>thalach</th>\n",
       "      <th>trestbps</th>\n",
       "    </tr>\n",
       "  </thead>\n",
       "  <tbody>\n",
       "    <tr>\n",
       "      <th>0</th>\n",
       "      <td>63</td>\n",
       "      <td>0</td>\n",
       "      <td>233</td>\n",
       "      <td>0</td>\n",
       "      <td>1</td>\n",
       "      <td>2.3</td>\n",
       "      <td>1</td>\n",
       "      <td>1</td>\n",
       "      <td>150</td>\n",
       "      <td>145</td>\n",
       "    </tr>\n",
       "    <tr>\n",
       "      <th>1</th>\n",
       "      <td>37</td>\n",
       "      <td>0</td>\n",
       "      <td>250</td>\n",
       "      <td>0</td>\n",
       "      <td>0</td>\n",
       "      <td>3.5</td>\n",
       "      <td>1</td>\n",
       "      <td>1</td>\n",
       "      <td>187</td>\n",
       "      <td>130</td>\n",
       "    </tr>\n",
       "    <tr>\n",
       "      <th>2</th>\n",
       "      <td>41</td>\n",
       "      <td>0</td>\n",
       "      <td>204</td>\n",
       "      <td>0</td>\n",
       "      <td>0</td>\n",
       "      <td>1.4</td>\n",
       "      <td>0</td>\n",
       "      <td>1</td>\n",
       "      <td>172</td>\n",
       "      <td>130</td>\n",
       "    </tr>\n",
       "  </tbody>\n",
       "</table>\n",
       "</div>"
      ],
      "text/plain": [
       "   age  ca  chol  exang  fbs  oldpeak  sex  target  thalach  trestbps\n",
       "0   63   0   233      0    1      2.3    1       1      150       145\n",
       "1   37   0   250      0    0      3.5    1       1      187       130\n",
       "2   41   0   204      0    0      1.4    0       1      172       130"
      ]
     },
     "execution_count": 5,
     "metadata": {},
     "output_type": "execute_result"
    }
   ],
   "source": [
    "numerics = np.setdiff1d(df.columns.tolist(),categoricals)\n",
    "df[numerics].head(3)"
   ]
  },
  {
   "cell_type": "code",
   "execution_count": 6,
   "metadata": {},
   "outputs": [
    {
     "data": {
      "text/plain": [
       "age         0\n",
       "sex         0\n",
       "cp          0\n",
       "trestbps    0\n",
       "chol        0\n",
       "fbs         0\n",
       "restecg     0\n",
       "thalach     0\n",
       "exang       0\n",
       "oldpeak     0\n",
       "slope       0\n",
       "ca          0\n",
       "thal        0\n",
       "target      0\n",
       "dtype: int64"
      ]
     },
     "execution_count": 6,
     "metadata": {},
     "output_type": "execute_result"
    }
   ],
   "source": [
    "# There aren't any null values\n",
    "df.isnull().sum()"
   ]
  },
  {
   "cell_type": "code",
   "execution_count": 7,
   "metadata": {},
   "outputs": [
    {
     "data": {
      "text/plain": [
       "3"
      ]
     },
     "execution_count": 7,
     "metadata": {},
     "output_type": "execute_result"
    }
   ],
   "source": [
    "df['thal'].max()"
   ]
  },
  {
   "cell_type": "code",
   "execution_count": 8,
   "metadata": {},
   "outputs": [
    {
     "data": {
      "text/html": [
       "<div>\n",
       "<style scoped>\n",
       "    .dataframe tbody tr th:only-of-type {\n",
       "        vertical-align: middle;\n",
       "    }\n",
       "\n",
       "    .dataframe tbody tr th {\n",
       "        vertical-align: top;\n",
       "    }\n",
       "\n",
       "    .dataframe thead th {\n",
       "        text-align: right;\n",
       "    }\n",
       "</style>\n",
       "<table border=\"1\" class=\"dataframe\">\n",
       "  <thead>\n",
       "    <tr style=\"text-align: right;\">\n",
       "      <th></th>\n",
       "      <th>cp_0</th>\n",
       "      <th>cp_1</th>\n",
       "      <th>cp_2</th>\n",
       "      <th>cp_3</th>\n",
       "      <th>restecg_0</th>\n",
       "      <th>restecg_1</th>\n",
       "      <th>restecg_2</th>\n",
       "      <th>slope_0</th>\n",
       "      <th>slope_1</th>\n",
       "      <th>slope_2</th>\n",
       "      <th>thal_0</th>\n",
       "      <th>thal_1</th>\n",
       "      <th>thal_2</th>\n",
       "      <th>thal_3</th>\n",
       "    </tr>\n",
       "  </thead>\n",
       "  <tbody>\n",
       "    <tr>\n",
       "      <th>0</th>\n",
       "      <td>0</td>\n",
       "      <td>0</td>\n",
       "      <td>0</td>\n",
       "      <td>1</td>\n",
       "      <td>1</td>\n",
       "      <td>0</td>\n",
       "      <td>0</td>\n",
       "      <td>1</td>\n",
       "      <td>0</td>\n",
       "      <td>0</td>\n",
       "      <td>0</td>\n",
       "      <td>1</td>\n",
       "      <td>0</td>\n",
       "      <td>0</td>\n",
       "    </tr>\n",
       "    <tr>\n",
       "      <th>1</th>\n",
       "      <td>0</td>\n",
       "      <td>0</td>\n",
       "      <td>1</td>\n",
       "      <td>0</td>\n",
       "      <td>0</td>\n",
       "      <td>1</td>\n",
       "      <td>0</td>\n",
       "      <td>1</td>\n",
       "      <td>0</td>\n",
       "      <td>0</td>\n",
       "      <td>0</td>\n",
       "      <td>0</td>\n",
       "      <td>1</td>\n",
       "      <td>0</td>\n",
       "    </tr>\n",
       "    <tr>\n",
       "      <th>2</th>\n",
       "      <td>0</td>\n",
       "      <td>1</td>\n",
       "      <td>0</td>\n",
       "      <td>0</td>\n",
       "      <td>1</td>\n",
       "      <td>0</td>\n",
       "      <td>0</td>\n",
       "      <td>0</td>\n",
       "      <td>0</td>\n",
       "      <td>1</td>\n",
       "      <td>0</td>\n",
       "      <td>0</td>\n",
       "      <td>1</td>\n",
       "      <td>0</td>\n",
       "    </tr>\n",
       "    <tr>\n",
       "      <th>3</th>\n",
       "      <td>0</td>\n",
       "      <td>1</td>\n",
       "      <td>0</td>\n",
       "      <td>0</td>\n",
       "      <td>0</td>\n",
       "      <td>1</td>\n",
       "      <td>0</td>\n",
       "      <td>0</td>\n",
       "      <td>0</td>\n",
       "      <td>1</td>\n",
       "      <td>0</td>\n",
       "      <td>0</td>\n",
       "      <td>1</td>\n",
       "      <td>0</td>\n",
       "    </tr>\n",
       "    <tr>\n",
       "      <th>4</th>\n",
       "      <td>1</td>\n",
       "      <td>0</td>\n",
       "      <td>0</td>\n",
       "      <td>0</td>\n",
       "      <td>0</td>\n",
       "      <td>1</td>\n",
       "      <td>0</td>\n",
       "      <td>0</td>\n",
       "      <td>0</td>\n",
       "      <td>1</td>\n",
       "      <td>0</td>\n",
       "      <td>0</td>\n",
       "      <td>1</td>\n",
       "      <td>0</td>\n",
       "    </tr>\n",
       "  </tbody>\n",
       "</table>\n",
       "</div>"
      ],
      "text/plain": [
       "   cp_0  cp_1  cp_2  cp_3   ...    thal_0  thal_1  thal_2  thal_3\n",
       "0     0     0     0     1   ...         0       1       0       0\n",
       "1     0     0     1     0   ...         0       0       1       0\n",
       "2     0     1     0     0   ...         0       0       1       0\n",
       "3     0     1     0     0   ...         0       0       1       0\n",
       "4     1     0     0     0   ...         0       0       1       0\n",
       "\n",
       "[5 rows x 14 columns]"
      ]
     },
     "execution_count": 8,
     "metadata": {},
     "output_type": "execute_result"
    }
   ],
   "source": [
    "pd.get_dummies(df[categoricals].astype(str)).head()"
   ]
  },
  {
   "cell_type": "markdown",
   "metadata": {},
   "source": [
    "Before passing the numerical features to the model, it's important to see if there is skewness in the distributions."
   ]
  },
  {
   "cell_type": "code",
   "execution_count": 9,
   "metadata": {},
   "outputs": [
    {
     "data": {
      "text/plain": [
       "ca          1.310422\n",
       "chol        1.143401\n",
       "exang       0.742532\n",
       "fbs         1.986652\n",
       "oldpeak     1.269720\n",
       "sex        -0.791335\n",
       "trestbps    0.713768\n",
       "dtype: float64"
      ]
     },
     "execution_count": 9,
     "metadata": {},
     "output_type": "execute_result"
    }
   ],
   "source": [
    "skew_calcs = df[numerics].skew()\n",
    "skew_calcs[abs(skew_calcs)>0.7]"
   ]
  },
  {
   "cell_type": "code",
   "execution_count": 10,
   "metadata": {},
   "outputs": [
    {
     "data": {
      "text/plain": [
       "['ca', 'chol', 'exang', 'fbs', 'oldpeak', 'sex', 'trestbps']"
      ]
     },
     "execution_count": 10,
     "metadata": {},
     "output_type": "execute_result"
    }
   ],
   "source": [
    "skewed_features = skew_calcs[skew_calcs.abs()>0.7].index.tolist()\n",
    "skewed_features"
   ]
  },
  {
   "cell_type": "code",
   "execution_count": 11,
   "metadata": {},
   "outputs": [
    {
     "data": {
      "image/png": "[encoded data removed]",
      "text/plain": [
       "<Figure size 432x288 with 9 Axes>"
      ]
     },
     "metadata": {},
     "output_type": "display_data"
    }
   ],
   "source": [
    "df[skewed_features].hist();"
   ]
  },
  {
   "cell_type": "markdown",
   "metadata": {},
   "source": [
    "#### The distribution of log-transformed features below does not appear to improve the distribution to appear more \"normal\", so I will stick with the original features without any transformation."
   ]
  },
  {
   "cell_type": "code",
   "execution_count": 12,
   "metadata": {},
   "outputs": [
    {
     "data": {
      "image/png": "[encoded data removed]",
      "text/plain": [
       "<Figure size 432x288 with 9 Axes>"
      ]
     },
     "metadata": {},
     "output_type": "display_data"
    }
   ],
   "source": [
    "np.log1p(df[skewed_features]).hist();"
   ]
  },
  {
   "cell_type": "code",
   "execution_count": 13,
   "metadata": {},
   "outputs": [
    {
     "data": {
      "text/html": [
       "<div>\n",
       "<style scoped>\n",
       "    .dataframe tbody tr th:only-of-type {\n",
       "        vertical-align: middle;\n",
       "    }\n",
       "\n",
       "    .dataframe tbody tr th {\n",
       "        vertical-align: top;\n",
       "    }\n",
       "\n",
       "    .dataframe thead th {\n",
       "        text-align: right;\n",
       "    }\n",
       "</style>\n",
       "<table border=\"1\" class=\"dataframe\">\n",
       "  <thead>\n",
       "    <tr style=\"text-align: right;\">\n",
       "      <th></th>\n",
       "      <th>age</th>\n",
       "      <th>sex</th>\n",
       "      <th>cp</th>\n",
       "      <th>trestbps</th>\n",
       "      <th>chol</th>\n",
       "      <th>fbs</th>\n",
       "      <th>restecg</th>\n",
       "      <th>thalach</th>\n",
       "      <th>exang</th>\n",
       "      <th>oldpeak</th>\n",
       "      <th>slope</th>\n",
       "      <th>ca</th>\n",
       "      <th>thal</th>\n",
       "      <th>target</th>\n",
       "    </tr>\n",
       "  </thead>\n",
       "  <tbody>\n",
       "    <tr>\n",
       "      <th>0</th>\n",
       "      <td>63</td>\n",
       "      <td>1</td>\n",
       "      <td>3</td>\n",
       "      <td>145</td>\n",
       "      <td>233</td>\n",
       "      <td>1</td>\n",
       "      <td>0</td>\n",
       "      <td>150</td>\n",
       "      <td>0</td>\n",
       "      <td>2.3</td>\n",
       "      <td>0</td>\n",
       "      <td>0</td>\n",
       "      <td>1</td>\n",
       "      <td>1</td>\n",
       "    </tr>\n",
       "    <tr>\n",
       "      <th>1</th>\n",
       "      <td>37</td>\n",
       "      <td>1</td>\n",
       "      <td>2</td>\n",
       "      <td>130</td>\n",
       "      <td>250</td>\n",
       "      <td>0</td>\n",
       "      <td>1</td>\n",
       "      <td>187</td>\n",
       "      <td>0</td>\n",
       "      <td>3.5</td>\n",
       "      <td>0</td>\n",
       "      <td>0</td>\n",
       "      <td>2</td>\n",
       "      <td>1</td>\n",
       "    </tr>\n",
       "    <tr>\n",
       "      <th>2</th>\n",
       "      <td>41</td>\n",
       "      <td>0</td>\n",
       "      <td>1</td>\n",
       "      <td>130</td>\n",
       "      <td>204</td>\n",
       "      <td>0</td>\n",
       "      <td>0</td>\n",
       "      <td>172</td>\n",
       "      <td>0</td>\n",
       "      <td>1.4</td>\n",
       "      <td>2</td>\n",
       "      <td>0</td>\n",
       "      <td>2</td>\n",
       "      <td>1</td>\n",
       "    </tr>\n",
       "    <tr>\n",
       "      <th>3</th>\n",
       "      <td>56</td>\n",
       "      <td>1</td>\n",
       "      <td>1</td>\n",
       "      <td>120</td>\n",
       "      <td>236</td>\n",
       "      <td>0</td>\n",
       "      <td>1</td>\n",
       "      <td>178</td>\n",
       "      <td>0</td>\n",
       "      <td>0.8</td>\n",
       "      <td>2</td>\n",
       "      <td>0</td>\n",
       "      <td>2</td>\n",
       "      <td>1</td>\n",
       "    </tr>\n",
       "    <tr>\n",
       "      <th>4</th>\n",
       "      <td>57</td>\n",
       "      <td>0</td>\n",
       "      <td>0</td>\n",
       "      <td>120</td>\n",
       "      <td>354</td>\n",
       "      <td>0</td>\n",
       "      <td>1</td>\n",
       "      <td>163</td>\n",
       "      <td>1</td>\n",
       "      <td>0.6</td>\n",
       "      <td>2</td>\n",
       "      <td>0</td>\n",
       "      <td>2</td>\n",
       "      <td>1</td>\n",
       "    </tr>\n",
       "  </tbody>\n",
       "</table>\n",
       "</div>"
      ],
      "text/plain": [
       "   age  sex  cp  trestbps  chol   ...    oldpeak  slope  ca  thal  target\n",
       "0   63    1   3       145   233   ...        2.3      0   0     1       1\n",
       "1   37    1   2       130   250   ...        3.5      0   0     2       1\n",
       "2   41    0   1       130   204   ...        1.4      2   0     2       1\n",
       "3   56    1   1       120   236   ...        0.8      2   0     2       1\n",
       "4   57    0   0       120   354   ...        0.6      2   0     2       1\n",
       "\n",
       "[5 rows x 14 columns]"
      ]
     },
     "execution_count": 13,
     "metadata": {},
     "output_type": "execute_result"
    }
   ],
   "source": [
    "df.head()"
   ]
  },
  {
   "cell_type": "markdown",
   "metadata": {},
   "source": [
    "**Created dummy variables for the categoricals and looks like everything merged/joined correctly.**"
   ]
  },
  {
   "cell_type": "code",
   "execution_count": 14,
   "metadata": {},
   "outputs": [
    {
     "data": {
      "text/html": [
       "<div>\n",
       "<style scoped>\n",
       "    .dataframe tbody tr th:only-of-type {\n",
       "        vertical-align: middle;\n",
       "    }\n",
       "\n",
       "    .dataframe tbody tr th {\n",
       "        vertical-align: top;\n",
       "    }\n",
       "\n",
       "    .dataframe thead th {\n",
       "        text-align: right;\n",
       "    }\n",
       "</style>\n",
       "<table border=\"1\" class=\"dataframe\">\n",
       "  <thead>\n",
       "    <tr style=\"text-align: right;\">\n",
       "      <th></th>\n",
       "      <th>age</th>\n",
       "      <th>ca</th>\n",
       "      <th>chol</th>\n",
       "      <th>exang</th>\n",
       "      <th>fbs</th>\n",
       "      <th>oldpeak</th>\n",
       "      <th>sex</th>\n",
       "      <th>target</th>\n",
       "      <th>thalach</th>\n",
       "      <th>trestbps</th>\n",
       "      <th>cp_0</th>\n",
       "      <th>cp_1</th>\n",
       "      <th>cp_2</th>\n",
       "      <th>cp_3</th>\n",
       "      <th>restecg_0</th>\n",
       "      <th>restecg_1</th>\n",
       "      <th>restecg_2</th>\n",
       "      <th>slope_0</th>\n",
       "      <th>slope_1</th>\n",
       "      <th>slope_2</th>\n",
       "      <th>thal_0</th>\n",
       "      <th>thal_1</th>\n",
       "      <th>thal_2</th>\n",
       "      <th>thal_3</th>\n",
       "    </tr>\n",
       "  </thead>\n",
       "  <tbody>\n",
       "    <tr>\n",
       "      <th>0</th>\n",
       "      <td>63</td>\n",
       "      <td>0</td>\n",
       "      <td>233</td>\n",
       "      <td>0</td>\n",
       "      <td>1</td>\n",
       "      <td>2.3</td>\n",
       "      <td>1</td>\n",
       "      <td>1</td>\n",
       "      <td>150</td>\n",
       "      <td>145</td>\n",
       "      <td>0</td>\n",
       "      <td>0</td>\n",
       "      <td>0</td>\n",
       "      <td>1</td>\n",
       "      <td>1</td>\n",
       "      <td>0</td>\n",
       "      <td>0</td>\n",
       "      <td>1</td>\n",
       "      <td>0</td>\n",
       "      <td>0</td>\n",
       "      <td>0</td>\n",
       "      <td>1</td>\n",
       "      <td>0</td>\n",
       "      <td>0</td>\n",
       "    </tr>\n",
       "    <tr>\n",
       "      <th>1</th>\n",
       "      <td>37</td>\n",
       "      <td>0</td>\n",
       "      <td>250</td>\n",
       "      <td>0</td>\n",
       "      <td>0</td>\n",
       "      <td>3.5</td>\n",
       "      <td>1</td>\n",
       "      <td>1</td>\n",
       "      <td>187</td>\n",
       "      <td>130</td>\n",
       "      <td>0</td>\n",
       "      <td>0</td>\n",
       "      <td>1</td>\n",
       "      <td>0</td>\n",
       "      <td>0</td>\n",
       "      <td>1</td>\n",
       "      <td>0</td>\n",
       "      <td>1</td>\n",
       "      <td>0</td>\n",
       "      <td>0</td>\n",
       "      <td>0</td>\n",
       "      <td>0</td>\n",
       "      <td>1</td>\n",
       "      <td>0</td>\n",
       "    </tr>\n",
       "    <tr>\n",
       "      <th>2</th>\n",
       "      <td>41</td>\n",
       "      <td>0</td>\n",
       "      <td>204</td>\n",
       "      <td>0</td>\n",
       "      <td>0</td>\n",
       "      <td>1.4</td>\n",
       "      <td>0</td>\n",
       "      <td>1</td>\n",
       "      <td>172</td>\n",
       "      <td>130</td>\n",
       "      <td>0</td>\n",
       "      <td>1</td>\n",
       "      <td>0</td>\n",
       "      <td>0</td>\n",
       "      <td>1</td>\n",
       "      <td>0</td>\n",
       "      <td>0</td>\n",
       "      <td>0</td>\n",
       "      <td>0</td>\n",
       "      <td>1</td>\n",
       "      <td>0</td>\n",
       "      <td>0</td>\n",
       "      <td>1</td>\n",
       "      <td>0</td>\n",
       "    </tr>\n",
       "    <tr>\n",
       "      <th>3</th>\n",
       "      <td>56</td>\n",
       "      <td>0</td>\n",
       "      <td>236</td>\n",
       "      <td>0</td>\n",
       "      <td>0</td>\n",
       "      <td>0.8</td>\n",
       "      <td>1</td>\n",
       "      <td>1</td>\n",
       "      <td>178</td>\n",
       "      <td>120</td>\n",
       "      <td>0</td>\n",
       "      <td>1</td>\n",
       "      <td>0</td>\n",
       "      <td>0</td>\n",
       "      <td>0</td>\n",
       "      <td>1</td>\n",
       "      <td>0</td>\n",
       "      <td>0</td>\n",
       "      <td>0</td>\n",
       "      <td>1</td>\n",
       "      <td>0</td>\n",
       "      <td>0</td>\n",
       "      <td>1</td>\n",
       "      <td>0</td>\n",
       "    </tr>\n",
       "    <tr>\n",
       "      <th>4</th>\n",
       "      <td>57</td>\n",
       "      <td>0</td>\n",
       "      <td>354</td>\n",
       "      <td>1</td>\n",
       "      <td>0</td>\n",
       "      <td>0.6</td>\n",
       "      <td>0</td>\n",
       "      <td>1</td>\n",
       "      <td>163</td>\n",
       "      <td>120</td>\n",
       "      <td>1</td>\n",
       "      <td>0</td>\n",
       "      <td>0</td>\n",
       "      <td>0</td>\n",
       "      <td>0</td>\n",
       "      <td>1</td>\n",
       "      <td>0</td>\n",
       "      <td>0</td>\n",
       "      <td>0</td>\n",
       "      <td>1</td>\n",
       "      <td>0</td>\n",
       "      <td>0</td>\n",
       "      <td>1</td>\n",
       "      <td>0</td>\n",
       "    </tr>\n",
       "  </tbody>\n",
       "</table>\n",
       "</div>"
      ],
      "text/plain": [
       "   age  ca  chol  exang  fbs   ...    slope_2  thal_0  thal_1  thal_2  thal_3\n",
       "0   63   0   233      0    1   ...          0       0       1       0       0\n",
       "1   37   0   250      0    0   ...          0       0       0       1       0\n",
       "2   41   0   204      0    0   ...          1       0       0       1       0\n",
       "3   56   0   236      0    0   ...          1       0       0       1       0\n",
       "4   57   0   354      1    0   ...          1       0       0       1       0\n",
       "\n",
       "[5 rows x 24 columns]"
      ]
     },
     "execution_count": 14,
     "metadata": {},
     "output_type": "execute_result"
    }
   ],
   "source": [
    "modeldata = pd.merge(df[numerics],pd.get_dummies(df[categoricals].astype(str)),left_index = True, right_index = True,how = 'inner')\n",
    "modeldata.head()"
   ]
  },
  {
   "cell_type": "markdown",
   "metadata": {},
   "source": [
    "## Prep Model for Training and Validation"
   ]
  },
  {
   "cell_type": "code",
   "execution_count": 15,
   "metadata": {},
   "outputs": [],
   "source": [
    "from sklearn.model_selection import train_test_split\n",
    "X, y = modeldata.drop(['target'],axis = 1), modeldata['target']\n",
    "X_train, X_test, y_train, y_test = train_test_split(X, y, test_size=0.2, random_state=10)"
   ]
  },
  {
   "cell_type": "code",
   "execution_count": 16,
   "metadata": {},
   "outputs": [],
   "source": [
    "from sklearn.metrics import mean_squared_error\n",
    "from sklearn.metrics import fbeta_score, accuracy_score"
   ]
  },
  {
   "cell_type": "code",
   "execution_count": 17,
   "metadata": {},
   "outputs": [],
   "source": [
    "def train_predict_with_parameters(learner, X_train, y_train, X_test, y_test,parameters = {}): \n",
    "    results = {}\n",
    "    start = time() # Get start time\n",
    "    if parameters != {}:\n",
    "        clf = GridSearchCV(learner, parameters)\n",
    "        learner = clf.fit(X_train,y_train)\n",
    "        results['best_params'] = learner.best_params_\n",
    "    else:\n",
    "        learner = learner.fit(X_train,y_train)\n",
    "        results['best_params'] = ''\n",
    "    end = time() # Get end time\n",
    "    results['train_time'] = end - start\n",
    "    start = time() # Get start time\n",
    "    predictions_test = learner.predict(X_test)\n",
    "    predictions_train = learner.predict(X_train)\n",
    "    end = time() # Get end time\n",
    "    results['pred_time'] = end - start\n",
    "    results['acc_train'] = accuracy_score(y_train,predictions_train)\n",
    "    results['acc_test'] = accuracy_score(y_test,predictions_test)\n",
    "    results['f_train'] = fbeta_score(y_train,predictions_train,.5)\n",
    "    results['f_test'] = fbeta_score(y_test,predictions_test,.5)\n",
    "    #results['best_params'] = learner.best_params_\n",
    "    return results"
   ]
  },
  {
   "cell_type": "code",
   "execution_count": 18,
   "metadata": {},
   "outputs": [],
   "source": [
    "learners= []\n",
    "\n",
    "from sklearn.linear_model import LogisticRegression\n",
    "learners.append([LogisticRegression(),{}])\n",
    "\n",
    "from sklearn.tree import DecisionTreeClassifier\n",
    "learners.append([DecisionTreeClassifier(),{}])\n",
    "\n",
    "from sklearn.neighbors import KNeighborsClassifier\n",
    "learners.append([KNeighborsClassifier(),{}])\n",
    "\n",
    "from sklearn.ensemble import AdaBoostClassifier, BaggingClassifier, GradientBoostingClassifier, RandomForestClassifier \n",
    "learners.append([GradientBoostingClassifier(),{ 'n_estimators': [16, 32], 'learning_rate': [0.8, 1.0] }])\n",
    "learners.append([AdaBoostClassifier(),{'n_estimators': [16, 32]}])\n",
    "\n",
    "learners.append([BaggingClassifier(),{}])\n",
    "learners.append([RandomForestClassifier(),\n",
    "                 {'bootstrap': [True, False],\n",
    "                 'max_depth': [3, 5, 10, 20, None],\n",
    "                 'max_features': ['auto', 'sqrt'],\n",
    "                 'min_samples_leaf': [1, 2, 4],\n",
    "                 'min_samples_split': [2, 5, 10]}\n",
    "                ])\n",
    "\n",
    "learners.append([RandomForestClassifier(),{}])\n",
    "\n",
    "from sklearn.svm import LinearSVC, SVC\n",
    "learners.append([SVC(),{'kernel': ['linear', 'rbf'],'C':[1, 10]}])\n",
    "learners.append([LinearSVC(),{}])\n",
    "\n",
    "from sklearn.naive_bayes import GaussianNB, BernoulliNB, MultinomialNB\n",
    "learners.append([BernoulliNB(),{}])\n",
    "learners.append([GaussianNB(),{}])\n",
    "learners.append([MultinomialNB(),{}])"
   ]
  },
  {
   "cell_type": "code",
   "execution_count": 19,
   "metadata": {},
   "outputs": [],
   "source": [
    "results = {}\n",
    "for clf in learners:\n",
    "    #No Params\n",
    "    clf_name = clf[0].__class__.__name__\n",
    "    results[clf_name] = train_predict_with_parameters(clf[0], X_train, y_train, X_test, y_test)\n",
    "    #GridSearchCV\n",
    "    if clf[1] != {}:\n",
    "        clf_name = clf[0].__class__.__name__\n",
    "        results[str(clf_name) + '_gridsearch'] = train_predict_with_parameters(clf[0], X_train, y_train, X_test, y_test, clf[1])"
   ]
  },
  {
   "cell_type": "code",
   "execution_count": 20,
   "metadata": {},
   "outputs": [
    {
     "data": {
      "text/html": [
       "<div>\n",
       "<style scoped>\n",
       "    .dataframe tbody tr th:only-of-type {\n",
       "        vertical-align: middle;\n",
       "    }\n",
       "\n",
       "    .dataframe tbody tr th {\n",
       "        vertical-align: top;\n",
       "    }\n",
       "\n",
       "    .dataframe thead th {\n",
       "        text-align: right;\n",
       "    }\n",
       "</style>\n",
       "<table border=\"1\" class=\"dataframe\">\n",
       "  <thead>\n",
       "    <tr style=\"text-align: right;\">\n",
       "      <th></th>\n",
       "      <th>acc_test</th>\n",
       "      <th>acc_train</th>\n",
       "      <th>best_params</th>\n",
       "      <th>f_test</th>\n",
       "      <th>f_train</th>\n",
       "      <th>pred_time</th>\n",
       "      <th>train_time</th>\n",
       "    </tr>\n",
       "  </thead>\n",
       "  <tbody>\n",
       "    <tr>\n",
       "      <th>BernoulliNB</th>\n",
       "      <td>0.852459</td>\n",
       "      <td>0.838843</td>\n",
       "      <td></td>\n",
       "      <td>0.820896</td>\n",
       "      <td>0.863836</td>\n",
       "      <td>0.00183654</td>\n",
       "      <td>0.00168014</td>\n",
       "    </tr>\n",
       "    <tr>\n",
       "      <th>GaussianNB</th>\n",
       "      <td>0.852459</td>\n",
       "      <td>0.838843</td>\n",
       "      <td></td>\n",
       "      <td>0.809859</td>\n",
       "      <td>0.853147</td>\n",
       "      <td>0.00153661</td>\n",
       "      <td>0.00117803</td>\n",
       "    </tr>\n",
       "    <tr>\n",
       "      <th>AdaBoostClassifier</th>\n",
       "      <td>0.836066</td>\n",
       "      <td>0.942149</td>\n",
       "      <td></td>\n",
       "      <td>0.797101</td>\n",
       "      <td>0.945946</td>\n",
       "      <td>0.0121453</td>\n",
       "      <td>0.0570333</td>\n",
       "    </tr>\n",
       "    <tr>\n",
       "      <th>RandomForestClassifier_gridsearch</th>\n",
       "      <td>0.819672</td>\n",
       "      <td>0.954545</td>\n",
       "      <td>{'bootstrap': False, 'max_depth': 20, 'max_fea...</td>\n",
       "      <td>0.766667</td>\n",
       "      <td>0.951049</td>\n",
       "      <td>0.00351095</td>\n",
       "      <td>7.94572</td>\n",
       "    </tr>\n",
       "    <tr>\n",
       "      <th>GradientBoostingClassifier</th>\n",
       "      <td>0.803279</td>\n",
       "      <td>0.995868</td>\n",
       "      <td></td>\n",
       "      <td>0.76087</td>\n",
       "      <td>0.994278</td>\n",
       "      <td>0.0031569</td>\n",
       "      <td>0.0679579</td>\n",
       "    </tr>\n",
       "    <tr>\n",
       "      <th>GradientBoostingClassifier_gridsearch</th>\n",
       "      <td>0.803279</td>\n",
       "      <td>1</td>\n",
       "      <td>{'learning_rate': 0.8, 'n_estimators': 32}</td>\n",
       "      <td>0.76087</td>\n",
       "      <td>1</td>\n",
       "      <td>0.0020082</td>\n",
       "      <td>0.242735</td>\n",
       "    </tr>\n",
       "    <tr>\n",
       "      <th>AdaBoostClassifier_gridsearch</th>\n",
       "      <td>0.803279</td>\n",
       "      <td>0.88843</td>\n",
       "      <td>{'n_estimators': 16}</td>\n",
       "      <td>0.76087</td>\n",
       "      <td>0.898161</td>\n",
       "      <td>0.00580263</td>\n",
       "      <td>0.225856</td>\n",
       "    </tr>\n",
       "    <tr>\n",
       "      <th>BaggingClassifier</th>\n",
       "      <td>0.786885</td>\n",
       "      <td>0.971074</td>\n",
       "      <td></td>\n",
       "      <td>0.753968</td>\n",
       "      <td>0.980966</td>\n",
       "      <td>0.00389791</td>\n",
       "      <td>0.0141456</td>\n",
       "    </tr>\n",
       "    <tr>\n",
       "      <th>LogisticRegression</th>\n",
       "      <td>0.770492</td>\n",
       "      <td>0.876033</td>\n",
       "      <td></td>\n",
       "      <td>0.724638</td>\n",
       "      <td>0.883171</td>\n",
       "      <td>0.00169206</td>\n",
       "      <td>0.00503898</td>\n",
       "    </tr>\n",
       "    <tr>\n",
       "      <th>SVC_gridsearch</th>\n",
       "      <td>0.770492</td>\n",
       "      <td>0.867769</td>\n",
       "      <td>{'C': 10, 'kernel': 'linear'}</td>\n",
       "      <td>0.719178</td>\n",
       "      <td>0.876217</td>\n",
       "      <td>0.00276303</td>\n",
       "      <td>14.2006</td>\n",
       "    </tr>\n",
       "    <tr>\n",
       "      <th>RandomForestClassifier</th>\n",
       "      <td>0.737705</td>\n",
       "      <td>0.991736</td>\n",
       "      <td></td>\n",
       "      <td>0.684932</td>\n",
       "      <td>0.992806</td>\n",
       "      <td>0.00353527</td>\n",
       "      <td>0.01074</td>\n",
       "    </tr>\n",
       "    <tr>\n",
       "      <th>MultinomialNB</th>\n",
       "      <td>0.737705</td>\n",
       "      <td>0.801653</td>\n",
       "      <td></td>\n",
       "      <td>0.681818</td>\n",
       "      <td>0.825036</td>\n",
       "      <td>0.00140357</td>\n",
       "      <td>0.00122762</td>\n",
       "    </tr>\n",
       "    <tr>\n",
       "      <th>DecisionTreeClassifier</th>\n",
       "      <td>0.721311</td>\n",
       "      <td>1</td>\n",
       "      <td></td>\n",
       "      <td>0.669014</td>\n",
       "      <td>1</td>\n",
       "      <td>0.00138259</td>\n",
       "      <td>0.00193548</td>\n",
       "    </tr>\n",
       "    <tr>\n",
       "      <th>KNeighborsClassifier</th>\n",
       "      <td>0.590164</td>\n",
       "      <td>0.780992</td>\n",
       "      <td></td>\n",
       "      <td>0.545977</td>\n",
       "      <td>0.798376</td>\n",
       "      <td>0.00443411</td>\n",
       "      <td>0.00127482</td>\n",
       "    </tr>\n",
       "    <tr>\n",
       "      <th>SVC</th>\n",
       "      <td>0.459016</td>\n",
       "      <td>1</td>\n",
       "      <td></td>\n",
       "      <td>0.492126</td>\n",
       "      <td>1</td>\n",
       "      <td>0.00652838</td>\n",
       "      <td>0.00706887</td>\n",
       "    </tr>\n",
       "    <tr>\n",
       "      <th>LinearSVC</th>\n",
       "      <td>0.639344</td>\n",
       "      <td>0.582645</td>\n",
       "      <td></td>\n",
       "      <td>0.47619</td>\n",
       "      <td>0.652174</td>\n",
       "      <td>0.00176048</td>\n",
       "      <td>0.0229986</td>\n",
       "    </tr>\n",
       "  </tbody>\n",
       "</table>\n",
       "</div>"
      ],
      "text/plain": [
       "                                       acc_test     ...      train_time\n",
       "BernoulliNB                            0.852459     ...      0.00168014\n",
       "GaussianNB                             0.852459     ...      0.00117803\n",
       "AdaBoostClassifier                     0.836066     ...       0.0570333\n",
       "RandomForestClassifier_gridsearch      0.819672     ...         7.94572\n",
       "GradientBoostingClassifier             0.803279     ...       0.0679579\n",
       "GradientBoostingClassifier_gridsearch  0.803279     ...        0.242735\n",
       "AdaBoostClassifier_gridsearch          0.803279     ...        0.225856\n",
       "BaggingClassifier                      0.786885     ...       0.0141456\n",
       "LogisticRegression                     0.770492     ...      0.00503898\n",
       "SVC_gridsearch                         0.770492     ...         14.2006\n",
       "RandomForestClassifier                 0.737705     ...         0.01074\n",
       "MultinomialNB                          0.737705     ...      0.00122762\n",
       "DecisionTreeClassifier                 0.721311     ...      0.00193548\n",
       "KNeighborsClassifier                   0.590164     ...      0.00127482\n",
       "SVC                                    0.459016     ...      0.00706887\n",
       "LinearSVC                              0.639344     ...       0.0229986\n",
       "\n",
       "[16 rows x 7 columns]"
      ]
     },
     "execution_count": 20,
     "metadata": {},
     "output_type": "execute_result"
    }
   ],
   "source": [
    "pd.DataFrame.from_dict(results).transpose().sort_values(['f_test','acc_test'], ascending = [False,False])"
   ]
  },
  {
   "cell_type": "markdown",
   "metadata": {},
   "source": [
    "## Now to dig into some model results."
   ]
  },
  {
   "cell_type": "code",
   "execution_count": 21,
   "metadata": {},
   "outputs": [],
   "source": [
    "#We'll be using this function a few times to show feature importances\n",
    "\n",
    "def show_importances(importances,vars = 8):\n",
    "    indices = np.argsort(importances)[::-1]\n",
    "    columns = X_train.columns.values[indices[:vars]]\n",
    "    values = importances[indices][:vars]\n",
    "    fig = plt.figure(figsize = (9,5))\n",
    "    plt.title(\"Normalized Weights for Most Predictive Features\", fontsize = 16)\n",
    "    plt.bar(np.arange(vars), values, width = 0.6, align=\"center\", color = '#00A000', \\\n",
    "          label = \"Feature Weight\")\n",
    "    plt.bar(np.arange(vars) - 0.3, np.cumsum(values), width = 0.2, align = \"center\", color = '#00A0A0', \\\n",
    "          label = \"Cumulative Feature Weight\")\n",
    "    plt.xticks(np.arange(vars), columns)\n",
    "    plt.ylabel(\"Weight\", fontsize = 12)\n",
    "    plt.xlabel(\"Feature\", fontsize = 12)\n",
    "    plt.legend(loc = 'upper center')\n",
    "    plt.tight_layout()\n",
    "    plt.show()"
   ]
  },
  {
   "cell_type": "markdown",
   "metadata": {},
   "source": [
    "### Bagging Classifier:\n",
    "#### Let's take a closer look"
   ]
  },
  {
   "cell_type": "code",
   "execution_count": 22,
   "metadata": {},
   "outputs": [
    {
     "data": {
      "image/png": "[encoded data removed]",
      "text/plain": [
       "<Figure size 648x360 with 1 Axes>"
      ]
     },
     "metadata": {},
     "output_type": "display_data"
    }
   ],
   "source": [
    "clf = BaggingClassifier()\n",
    "clf.fit(X, y)\n",
    "\n",
    "importances = np.mean([\n",
    "    tree.feature_importances_ for tree in clf.estimators_\n",
    "], axis=0)\n",
    "\n",
    "show_importances(importances,8)"
   ]
  },
  {
   "cell_type": "markdown",
   "metadata": {},
   "source": [
    "### We'll look more closely into the top four above:\n",
    "- **thal_2**\n",
    "- **cp_0**\n",
    "- **ca**\n",
    "- **oldpeak**"
   ]
  },
  {
   "cell_type": "code",
   "execution_count": 23,
   "metadata": {},
   "outputs": [],
   "source": [
    "### Let's distinguish by target to see the distributions of the features by target\n",
    "target1 = modeldata[modeldata['target']==1]\n",
    "target0 = modeldata[modeldata['target']==0]"
   ]
  },
  {
   "cell_type": "markdown",
   "metadata": {},
   "source": [
    "- **oldpeak**\n",
    "- **ca**\n",
    "<br>**Below we see that oldpeak and ca values of zero are positively correlated with the presence of heart disease.** \n",
    "<br>We will also see this in the correlation table below, where there are 4th and 5th most negatively correlated features."
   ]
  },
  {
   "cell_type": "code",
   "execution_count": 24,
   "metadata": {},
   "outputs": [
    {
     "data": {
      "image/png": "[encoded data removed]",
      "text/plain": [
       "<Figure size 864x288 with 2 Axes>"
      ]
     },
     "metadata": {},
     "output_type": "display_data"
    }
   ],
   "source": [
    "fig, (ax1, ax2) = plt.subplots(1,2, figsize = (12,4))\n",
    "\n",
    "ax1.hist(target1['oldpeak'],int(modeldata['oldpeak'].max()),alpha = 0.5, label = 'with heart disease')\n",
    "ax1.hist(target0['oldpeak'],int(modeldata['oldpeak'].max()),alpha = 0.5, label = 'without heart disease')\n",
    "ax1.title.set_text('oldpeak')\n",
    "ax1.legend(loc=0)\n",
    "\n",
    "ax2.hist(target1['ca'],int(modeldata['ca'].max()),alpha = 0.5, label = 'with heart disease')\n",
    "ax2.hist(target0['ca'],int(modeldata['ca'].max()),alpha = 0.5, label = 'without heart disease')\n",
    "ax2.title.set_text('ca')\n",
    "ax2.legend(loc=0);"
   ]
  },
  {
   "cell_type": "code",
   "execution_count": 25,
   "metadata": {},
   "outputs": [
    {
     "data": {
      "text/plain": [
       "cp_0      -0.516015\n",
       "thal_3    -0.486112\n",
       "exang     -0.436757\n",
       "oldpeak   -0.430696\n",
       "ca        -0.391724\n",
       "Name: target, dtype: float64"
      ]
     },
     "execution_count": 25,
     "metadata": {},
     "output_type": "execute_result"
    }
   ],
   "source": [
    "modeldata.corr()['target'].sort_values().head(5)"
   ]
  },
  {
   "cell_type": "markdown",
   "metadata": {},
   "source": [
    "- **cp_0**\n",
    "<br>Above we also saw how **cp_0** (typical angina) is the most negatively correlated feature with heart disease."
   ]
  },
  {
   "cell_type": "code",
   "execution_count": 26,
   "metadata": {},
   "outputs": [
    {
     "name": "stdout",
     "output_type": "stream",
     "text": [
      "54.0% of all had heart disease%\n",
      "27.0% of those with cp_0 had heart disease%\n"
     ]
    },
    {
     "data": {
      "text/plain": [
       "cp_0        143\n",
       "target      165\n",
       "combined     39\n",
       "dtype: int64"
      ]
     },
     "execution_count": 26,
     "metadata": {},
     "output_type": "execute_result"
    }
   ],
   "source": [
    "cp0 = modeldata[['cp_0','target']]\n",
    "cp0['combined'] = modeldata['cp_0'] * modeldata['target']\n",
    "\n",
    "print('{}% of all had heart disease%'.format(round(df['target'].sum()/df.shape[0]*100,0)))\n",
    "print('{}% of those with cp_0 had heart disease%'.format(round(39/143*100,0)))\n",
    "cp0.sum()"
   ]
  },
  {
   "cell_type": "code",
   "execution_count": 27,
   "metadata": {},
   "outputs": [
    {
     "data": {
      "text/plain": [
       "0        -0.007293\n",
       "1        -0.106589\n",
       "2         0.527334\n",
       "3        -0.486112\n",
       "target    1.000000\n",
       "Name: target, dtype: float64"
      ]
     },
     "execution_count": 27,
     "metadata": {},
     "output_type": "execute_result"
    }
   ],
   "source": [
    "pd.merge(pd.get_dummies(df['thal']), df[['target']], left_index = True, right_index = True, how = 'inner').corr()['target']"
   ]
  },
  {
   "cell_type": "markdown",
   "metadata": {},
   "source": []
  },
  {
   "cell_type": "code",
   "execution_count": 28,
   "metadata": {},
   "outputs": [
    {
     "data": {
      "text/plain": [
       "cp_0      -0.516015\n",
       "thal_3    -0.486112\n",
       "exang     -0.436757\n",
       "oldpeak   -0.430696\n",
       "ca        -0.391724\n",
       "Name: target, dtype: float64"
      ]
     },
     "execution_count": 28,
     "metadata": {},
     "output_type": "execute_result"
    }
   ],
   "source": [
    "modeldata.corr()['target'].sort_values().head(5)"
   ]
  },
  {
   "cell_type": "markdown",
   "metadata": {},
   "source": [
    "- **thal_2**\n",
    "<br>With the statistics and correlation table below, we see that **thal_2** is the most highly correlated feature with heart disease."
   ]
  },
  {
   "cell_type": "code",
   "execution_count": 29,
   "metadata": {},
   "outputs": [
    {
     "name": "stdout",
     "output_type": "stream",
     "text": [
      "78.0% of those with thal_2 had heart disease%\n"
     ]
    },
    {
     "data": {
      "text/plain": [
       "thal_2      166\n",
       "target      165\n",
       "combined    130\n",
       "dtype: int64"
      ]
     },
     "execution_count": 29,
     "metadata": {},
     "output_type": "execute_result"
    }
   ],
   "source": [
    "print('{}% of those with thal_2 had heart disease%'.format(round(130/166*100,0)))\n",
    "thal2 = modeldata[['thal_2','target']]\n",
    "thal2['combined'] = modeldata['thal_2'] * modeldata['target']\n",
    "thal2.sum()"
   ]
  },
  {
   "cell_type": "code",
   "execution_count": 30,
   "metadata": {},
   "outputs": [
    {
     "data": {
      "text/plain": [
       "target       1.000000\n",
       "thal_2       0.527334\n",
       "thalach      0.421741\n",
       "slope_2      0.394066\n",
       "cp_2         0.316742\n",
       "cp_1         0.245879\n",
       "restecg_1    0.175322\n",
       "cp_3         0.086957\n",
       "thal_0      -0.007293\n",
       "fbs         -0.028046\n",
       "Name: target, dtype: float64"
      ]
     },
     "execution_count": 30,
     "metadata": {},
     "output_type": "execute_result"
    }
   ],
   "source": [
    "modeldata.corr()['target'].sort_values(ascending = False).head(10)"
   ]
  },
  {
   "cell_type": "markdown",
   "metadata": {},
   "source": [
    "We can also see how much more positively correlated thal_2 is with heart disease than the other thalassemia categories."
   ]
  },
  {
   "cell_type": "code",
   "execution_count": 31,
   "metadata": {},
   "outputs": [
    {
     "data": {
      "text/plain": [
       "0        -0.007293\n",
       "1        -0.106589\n",
       "2         0.527334\n",
       "3        -0.486112\n",
       "target    1.000000\n",
       "Name: target, dtype: float64"
      ]
     },
     "execution_count": 31,
     "metadata": {},
     "output_type": "execute_result"
    }
   ],
   "source": [
    "pd.merge(pd.get_dummies(df['thal']), df[['target']], left_index = True, right_index = True, how = 'inner').corr()['target']"
   ]
  },
  {
   "cell_type": "markdown",
   "metadata": {},
   "source": [
    "### RandomForestClassifier:\n",
    "#### Let's take a closer look"
   ]
  },
  {
   "cell_type": "code",
   "execution_count": 32,
   "metadata": {},
   "outputs": [
    {
     "data": {
      "image/png": "[encoded data removed]",
      "text/plain": [
       "<Figure size 648x360 with 1 Axes>"
      ]
     },
     "metadata": {},
     "output_type": "display_data"
    }
   ],
   "source": [
    "clf = RandomForestClassifier()\n",
    "clf.fit(X,y)\n",
    "\n",
    "importances = np.mean([\n",
    "    tree.feature_importances_ for tree in clf.estimators_\n",
    "], axis=0)\n",
    "\n",
    "show_importances(importances,8)"
   ]
  },
  {
   "cell_type": "markdown",
   "metadata": {},
   "source": [
    "### It's nice to see 3 of our top four features are the same."
   ]
  },
  {
   "cell_type": "markdown",
   "metadata": {},
   "source": [
    "### thalach is the new feature in the top four, so let's take a closer look"
   ]
  },
  {
   "cell_type": "code",
   "execution_count": 33,
   "metadata": {},
   "outputs": [
    {
     "data": {
      "image/png": "[encoded data removed]",
      "text/plain": [
       "<Figure size 432x288 with 1 Axes>"
      ]
     },
     "metadata": {},
     "output_type": "display_data"
    }
   ],
   "source": [
    "sns.kdeplot(data = target1['thalach'],color = 'red',shade = True)#,bw=True)\n",
    "sns.kdeplot(data = target0['thalach'],color = 'blue',shade = True)#, bw = True)\n",
    "plt.show()    "
   ]
  },
  {
   "cell_type": "markdown",
   "metadata": {},
   "source": [
    "Higher rates of **thalach**, the maximum heart rate achieved, are correlated with a greater incidence of heart disease."
   ]
  },
  {
   "cell_type": "markdown",
   "metadata": {},
   "source": [
    "### AdaBoostClassifier:\n",
    "#### Let's take a closer look"
   ]
  },
  {
   "cell_type": "code",
   "execution_count": 34,
   "metadata": {},
   "outputs": [
    {
     "data": {
      "image/png": "[encoded data removed]",
      "text/plain": [
       "<Figure size 648x360 with 1 Axes>"
      ]
     },
     "metadata": {},
     "output_type": "display_data"
    }
   ],
   "source": [
    "clf = AdaBoostClassifier()\n",
    "clf.fit(X,y)\n",
    "\n",
    "importances = np.mean([\n",
    "    tree.feature_importances_ for tree in clf.estimators_\n",
    "], axis=0)\n",
    "    \n",
    "show_importances(importances,6)    "
   ]
  },
  {
   "cell_type": "markdown",
   "metadata": {},
   "source": [
    "### We'll look more closely into the top four above, with the exception of oldpeak, which we've already looked into.\n",
    "- **age**\n",
    "- **chol**\n",
    "- **trestbps**"
   ]
  },
  {
   "cell_type": "markdown",
   "metadata": {},
   "source": [
    "The Adaboost throws some curveballs for us, as you can see below."
   ]
  },
  {
   "cell_type": "code",
   "execution_count": 35,
   "metadata": {},
   "outputs": [
    {
     "data": {
      "image/png": "[encoded data removed]",
      "text/plain": [
       "<Figure size 1152x288 with 3 Axes>"
      ]
     },
     "metadata": {},
     "output_type": "display_data"
    }
   ],
   "source": [
    "fig, (ax1, ax2, ax3) = plt.subplots(1, 3, figsize = (16,4))\n",
    "\n",
    "sns.kdeplot(data = target1['age'],color = 'red',shade = True, ax = ax1)#,bw=True)\n",
    "sns.kdeplot(data = target0['age'],color = 'blue',shade = True, ax = ax1)#, bw = True)\n",
    "\n",
    "sns.kdeplot(data = target1['chol'],color = 'red',shade = True, ax = ax2)#,bw=True)\n",
    "sns.kdeplot(data = target0['chol'],color = 'blue',shade = True, ax = ax2)#, bw = True)\n",
    "\n",
    "sns.kdeplot(data = target1['trestbps'],color = 'red',shade = True, ax = ax3)#,bw=True)\n",
    "sns.kdeplot(data = target0['trestbps'],color = 'blue',shade = True, ax = ax3)#, bw = True)\n",
    "plt.show()    "
   ]
  },
  {
   "cell_type": "code",
   "execution_count": 36,
   "metadata": {},
   "outputs": [
    {
     "data": {
      "text/plain": [
       "age        -0.225439\n",
       "trestbps   -0.144931\n",
       "chol       -0.085239\n",
       "target      1.000000\n",
       "Name: target, dtype: float64"
      ]
     },
     "execution_count": 36,
     "metadata": {},
     "output_type": "execute_result"
    }
   ],
   "source": [
    "modeldata[['target','age','chol','trestbps']].corr()['target'].sort_values()"
   ]
  },
  {
   "cell_type": "markdown",
   "metadata": {},
   "source": [
    "We can see both visually and with the correlation table that these three features are negatively correlated with the presence of heart disease.  This will, however, pose a bit of a problem to our study.  We will find that as we seek out external research, these three figures should have a positive correlation with heart disease."
   ]
  },
  {
   "cell_type": "markdown",
   "metadata": {},
   "source": [
    "## So, let's summarize our findings and see if they make sense in the real world."
   ]
  },
  {
   "cell_type": "markdown",
   "metadata": {},
   "source": [
    "We see that values of zero for both **oldpeak** and **ca** are positively correlated with heart disease.\n",
    "- oldpeak is the ST depression induced by exercise relative to rest."
   ]
  },
  {
   "cell_type": "markdown",
   "metadata": {},
   "source": [
    "I'll have to trust the data on this one, since it looks like understanding electrocardiogram patterns is an entire field by itself. https://ecg.utah.edu/"
   ]
  },
  {
   "cell_type": "markdown",
   "metadata": {},
   "source": [
    "- ca is the number of major vessels (0-3) colored by flouroscopy."
   ]
  },
  {
   "cell_type": "markdown",
   "metadata": {},
   "source": [
    "https://www.urmc.rochester.edu/encyclopedia/content.aspx?ContentTypeID=92&ContentID=p07662\n",
    "Here we can see that the flouroscopy will show the flow of blood through coronary arteries to check for arterial blockages. From this, we can infer at a very simple level that have zero major vessels is a problem.  Having no major arteries will significantly limit blood flow throughout the body."
   ]
  },
  {
   "cell_type": "markdown",
   "metadata": {},
   "source": [
    "The high correlation between **thal_2**, thalassemia - reversible defect doesn't sound surprising.  It almost sounds as if anyone with a \"defect\" would by definition already have heart disease, but that doesn't appear to be the case, since 78% of those had heart disease in the study.  I wasn't able to find much more information online about this feature, which is just another example of how specialized a data scientist would need to be to understand this type of study."
   ]
  },
  {
   "cell_type": "markdown",
   "metadata": {},
   "source": [
    "As we saw earlier, typical angina has the most negative correlation with the presence of heart disease. Only 27% of those with typical angina had heart disease.  "
   ]
  },
  {
   "cell_type": "markdown",
   "metadata": {},
   "source": [
    "Here is the breakdown of the types of angina in the study:\n",
    "- typical angina\n",
    "- atypical angina\n",
    "- non-anginal pain\n",
    "- asymptomatic"
   ]
  },
  {
   "cell_type": "markdown",
   "metadata": {},
   "source": [
    "Angina is a type of chest pain cause by reduced blood flow to the heart.  This one does seem to make sense, but would again be much more well understood by someone with specialized training in medicine."
   ]
  },
  {
   "cell_type": "markdown",
   "metadata": {},
   "source": [
    "As previously mentioned, the negative correlations of **age, chol, and trestbps** are discouraging regarding the reliability of our study."
   ]
  },
  {
   "cell_type": "markdown",
   "metadata": {},
   "source": [
    "External sources shows that age, total cholesterol (chol), and resting blood pressure (trestbps) should be positively correlated with the presence of heart disease.<br>\n",
    "- **age**: https://www.nia.nih.gov/health/heart-health-and-aging\n",
    "- **chol**: https://www.webmd.com/heart-disease/guide/heart-disease-lower-cholesterol-risk#1\n",
    "- **trestbps**: https://www.webmd.com/hypertension-high-blood-pressure/guide/hypertensive-heart-disease#1"
   ]
  },
  {
   "cell_type": "markdown",
   "metadata": {},
   "source": [
    "This compels a strong critique of the results of this study.  I think there are two places to point the finger."
   ]
  },
  {
   "cell_type": "markdown",
   "metadata": {},
   "source": [
    "If we look at these correlations again, compared with tests for statistical significance of Pearson correlation with a sample size ~300, we see that at 99% confidence, only age is significant, and at 95%, only age and trestbps are significant."
   ]
  },
  {
   "cell_type": "markdown",
   "metadata": {},
   "source": [
    "This is a great reminder that the setup of the study itself to be completely unbiased is incredibly important.  It appears that this study may have some kind of biases given the high significance of age being negatively correlated with heart disease, which is completely contrary to medical knowledge."
   ]
  },
  {
   "cell_type": "code",
   "execution_count": 37,
   "metadata": {},
   "outputs": [
    {
     "data": {
      "text/plain": [
       "age        -0.225439\n",
       "trestbps   -0.144931\n",
       "chol       -0.085239\n",
       "target      1.000000\n",
       "Name: target, dtype: float64"
      ]
     },
     "execution_count": 37,
     "metadata": {},
     "output_type": "execute_result"
    }
   ],
   "source": [
    "modeldata[['target','age','chol','trestbps']].corr()['target'].sort_values()"
   ]
  },
  {
   "cell_type": "markdown",
   "metadata": {},
   "source": [
    "## Summary:\n",
    "We data scientists like to find the answers to problems, but the problems we try to solve are often much more complex than applying your typical machine learning model and simply reading out results that revolutionize the world.  We still need to ask a lot of questions about the specific case.\n",
    "- Does machine working work for this case?\n",
    "- How many different models should I run and are the results consistent?\n",
    "- Is the sample size large enough for a machine learning application?\n",
    "- Would a model work best for this, or should we just stick with descriptive statistics like averages and correlations?\n",
    "- What is the specialized level of knowledge required to understand the results?\n",
    "- Do the results corroborate the established understanding in this field and can we defend the results if they do not?"
   ]
  },
  {
   "cell_type": "markdown",
   "metadata": {},
   "source": [
    "Data Science is a revolutionary tool, but it must always be implemented correctly and with caution as a complementary tool to established knowledge in any particular application, whether social, medical, or anything else.  Our predictions may outperform those of those who specialize in a given field, but to really add value, it's important that we combine statistics, data science, and especially domain-specific expertise if we are to fully leverage the value the data science to its full potential."
   ]
  },
  {
   "cell_type": "code",
   "execution_count": 38,
   "metadata": {},
   "outputs": [],
   "source": []
  }
 ],
 "metadata": {
  "kernelspec": {
   "display_name": "Python 3",
   "language": "python",
   "name": "python3"
  },
  "language_info": {
   "codemirror_mode": {
    "name": "ipython",
    "version": 3
   },
   "file_extension": ".py",
   "mimetype": "text/x-python",
   "name": "python",
   "nbconvert_exporter": "python",
   "pygments_lexer": "ipython3",
   "version": "3.6.4"
  }
 },
 "nbformat": 4,
 "nbformat_minor": 1
}
